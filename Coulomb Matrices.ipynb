{
 "cells": [
  {
   "cell_type": "markdown",
   "id": "6921aa05",
   "metadata": {},
   "source": [
    "#### Reading the file with all filenames of molecules into a list with all filenames in string format"
   ]
  },
  {
   "cell_type": "code",
   "execution_count": null,
   "id": "b52a98a4",
   "metadata": {},
   "outputs": [],
   "source": [
    "name_file = \"500 molecules filenames.txt\"\n",
    "handle = open(name_file,\"r\")\n",
    "handle = handle.readlines()\n",
    "filenames = []\n",
    "for i in handle:\n",
    "    i = i.strip(\"\\n\")\n",
    "    filenames.append(i)\n",
    "filenames"
   ]
  },
  {
   "cell_type": "markdown",
   "id": "7a9b48c9",
   "metadata": {},
   "source": [
    "#### Cell for counting the maximum number of atoms per molecule"
   ]
  },
  {
   "cell_type": "code",
   "execution_count": 4,
   "id": "445ef393",
   "metadata": {},
   "outputs": [
    {
     "name": "stdout",
     "output_type": "stream",
     "text": [
      "27\n"
     ]
    }
   ],
   "source": [
    "dirr = \"/mnt/c/Users/hp/Downloads/PHYS400/coding/500 molecules structure/\"   #from where Im reading files\n",
    "\n",
    "max_num = 0\n",
    "for filename in filenames:\n",
    "    Fhandle = open(dirr+filename,\"r\")\n",
    "    Fhandle = Fhandle.readlines()\n",
    "    file_content = []\n",
    "    for i in Fhandle:\n",
    "        i = i.strip(\"\\n\")\n",
    "        if i != \"\":\n",
    "            file_content.append(i)\n",
    "    no_of_lines = len(file_content)\n",
    "    if no_of_lines > max_num:\n",
    "        max_num = no_of_lines\n",
    "\n",
    "print(max_num)"
   ]
  },
  {
   "cell_type": "markdown",
   "id": "283be2b8",
   "metadata": {},
   "source": [
    "#### Importing the library and setting the parameters"
   ]
  },
  {
   "cell_type": "code",
   "execution_count": 10,
   "id": "e851dc44",
   "metadata": {},
   "outputs": [],
   "source": [
    "from dscribe.descriptors import CoulombMatrix\n",
    "\n",
    "# Setting up the CM descriptor\n",
    "cm = CoulombMatrix(n_atoms_max= max_num)\n",
    "\n",
    "from ase import Atoms"
   ]
  },
  {
   "cell_type": "markdown",
   "id": "fcd95009",
   "metadata": {},
   "source": [
    "#### Part with functions"
   ]
  },
  {
   "cell_type": "code",
   "execution_count": 6,
   "id": "a17b3062",
   "metadata": {},
   "outputs": [],
   "source": [
    "def get_positions(Line):     #function that given the line of mol structure takes positions and returns them in a list\n",
    "    pos = []\n",
    "    xstr,ystr,zstr = line[1],line[2], line[3]\n",
    "    x,y,z = float(xstr),float(ystr),float(zstr)\n",
    "    pos.append(x)\n",
    "    pos.append(y)\n",
    "    pos.append(z)\n",
    "    return pos"
   ]
  },
  {
   "cell_type": "code",
   "execution_count": 11,
   "id": "8753ae48",
   "metadata": {},
   "outputs": [],
   "source": [
    "def get_CM(atomss,coordinates):        #function that given the list with atom symbols of form [\"X\",\"Y\",..] and list of positions of form [[line1],[line2],...] retunrs the CM\n",
    "    structure = Atoms(symbols = atomss, positions = coordinates)\n",
    "    CoulM = cm.create(structure)\n",
    "    return CoulM"
   ]
  },
  {
   "cell_type": "markdown",
   "id": "f3f6220e",
   "metadata": {},
   "source": [
    "##### The main cell that reads the content from each file with molecular structure and extracts the atoms and the positions. These are then used to produce the CM (that returns the 1D array but can me modified to 2D array as well) and save it as a txt file for each molecule. I end up with a folder which obtains CMs for selected 500 molecules."
   ]
  },
  {
   "cell_type": "code",
   "execution_count": 12,
   "id": "745565b8",
   "metadata": {},
   "outputs": [],
   "source": [
    "dirr2 = \"/mnt/c/Users/hp/Downloads/PHYS400/coding/coulomb matrices/\"   #to where im saving the files\n",
    "atoms = []\n",
    "Coordinates = []\n",
    "Line_coord = []\n",
    "for filename in filenames:\n",
    "    Fhandle = open(dirr+filename,\"r\")\n",
    "    Fhandle = Fhandle.readlines()\n",
    "    file_content = []\n",
    "    for i in Fhandle:\n",
    "        i = i.strip(\"\\n\")\n",
    "        if i != \"\":\n",
    "            file_content.append(i)\n",
    "    for i in file_content:\n",
    "        line_mix = i.split(\" \")       #it may have empty list elements so we need to remove them in the following loop, line_mix is of this form: ['C', '', '0.0638379925', '', '1.5732921139', '', '0.042819801', '-0.507299']\n",
    "        line = []\n",
    "        for x in line_mix:\n",
    "            if x != \"\":\n",
    "                line.append(x)\n",
    "        atom = line[0]\n",
    "        atoms.append(atom)       #after this we get this form ['C', 'C', ..., 'H', 'H', 'H', 'H', 'H']\n",
    "        Line_coord = get_positions(line)\n",
    "        Coordinates.append(Line_coord)\n",
    "    Coul_mat = get_CM(atoms,Coordinates)\n",
    "    \n",
    "    new_file = open(dirr2+filename,\"w\")\n",
    "    for item in Coul_mat:\n",
    "        new_file.write(\"%s,\" %item)\n",
    "    new_file.close()\n",
    "   \n",
    "    atoms = []\n",
    "    Coordinates = []        \n",
    "    Line_coord = []"
   ]
  },
  {
   "cell_type": "markdown",
   "id": "ea0b033f",
   "metadata": {},
   "source": []
  },
  {
   "cell_type": "markdown",
   "id": "9e171d60",
   "metadata": {},
   "source": [
    "### Below is for practice"
   ]
  },
  {
   "cell_type": "code",
   "execution_count": null,
   "id": "6f3181dd",
   "metadata": {},
   "outputs": [],
   "source": [
    "from ase.build import molecule\n",
    "\n",
    "cm2 = CoulombMatrix(\n",
    "    n_atoms_max=6,flatten=False\n",
    ")\n",
    "methanol = molecule(\"CH3OH\")\n",
    "\n",
    "# Create CM output for the system\n",
    "cm_methanol = cm2.create(methanol)\n",
    "print(cm_methanol)\n",
    "\n",
    "print(\"flattened\", cm_methanol.shape)"
   ]
  },
  {
   "cell_type": "code",
   "execution_count": null,
   "id": "07c8373e",
   "metadata": {},
   "outputs": [],
   "source": [
    "a = [1,2,3]\n",
    "b=[1]\n",
    "b.append(a)\n",
    "b"
   ]
  },
  {
   "cell_type": "code",
   "execution_count": null,
   "id": "3dc1e478",
   "metadata": {},
   "outputs": [],
   "source": [
    "structure1 = Atoms(symbols=[\"O\", \"C\",\"C\",\"C\",\"O\",\"C\",\"H\",\"H\",\"H\",\"H\",\"H\",\"H\",\"H\",\"H\"], positions=[[-0.01, 1.37, -0.26],\n",
    "                                                                                                  [0.018,-0.019,0.0387],[0.1,0.2,0.3],\n",
    "                                                                                                 [-0.021, 1.317, -0.026],\n",
    "                                                                                                  [0.028,-0.19,0.387],[0.41,0.12,0.31],\n",
    "                                                                                                  [-0.01, 1.37, -0.26],\n",
    "                                                                                                  [0.017,-0.09,0.07],[0.12,0.24,0.13],\n",
    "                                                                                                 [-0.21, 1.37, -0.6],\n",
    "                                                                                                  [0.8,-0.9,0.7],[0.141,0.2,0.131],\n",
    "                                                                                                  [0.81,-0.19,0.17],[0.11,0.12,0.11]])\n",
    "CM = cm.create(structure1)           "
   ]
  },
  {
   "cell_type": "code",
   "execution_count": null,
   "id": "3fac67fd",
   "metadata": {},
   "outputs": [],
   "source": [
    "print(CM[555])"
   ]
  },
  {
   "cell_type": "markdown",
   "id": "f0507d36",
   "metadata": {},
   "source": [
    "After doing this, we get a correct dimension (14*14=196), all elements in one array."
   ]
  }
 ],
 "metadata": {
  "kernelspec": {
   "display_name": "Python 3 (ipykernel)",
   "language": "python",
   "name": "python3"
  },
  "language_info": {
   "codemirror_mode": {
    "name": "ipython",
    "version": 3
   },
   "file_extension": ".py",
   "mimetype": "text/x-python",
   "name": "python",
   "nbconvert_exporter": "python",
   "pygments_lexer": "ipython3",
   "version": "3.8.10"
  }
 },
 "nbformat": 4,
 "nbformat_minor": 5
}
